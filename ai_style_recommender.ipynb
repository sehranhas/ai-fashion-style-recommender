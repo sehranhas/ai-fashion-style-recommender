{
 "cells": [
  {
   "cell_type": "code",
   "execution_count": 143,
   "id": "0f5cdeef-bb82-48d4-8a1c-6ac703c258d3",
   "metadata": {},
   "outputs": [
    {
     "name": "stdout",
     "output_type": "stream",
     "text": [
      "Number of unique types: 50\n",
      "Number of unique colors: 207\n",
      "\n",
      "Data shapes:\n",
      "X_train: (1676, 128, 128, 3)\n",
      "X_val: (419, 128, 128, 3)\n",
      "y_type_train: (1676, 50)\n",
      "y_type_val: (419, 50)\n",
      "y_color_train: (1676, 207)\n",
      "y_color_val: (419, 207)\n"
     ]
    },
    {
     "data": {
      "text/html": [
       "<pre style=\"white-space:pre;overflow-x:auto;line-height:normal;font-family:Menlo,'DejaVu Sans Mono',consolas,'Courier New',monospace\"><span style=\"font-weight: bold\">Model: \"functional_42\"</span>\n",
       "</pre>\n"
      ],
      "text/plain": [
       "\u001b[1mModel: \"functional_42\"\u001b[0m\n"
      ]
     },
     "metadata": {},
     "output_type": "display_data"
    },
    {
     "data": {
      "text/html": [
       "<pre style=\"white-space:pre;overflow-x:auto;line-height:normal;font-family:Menlo,'DejaVu Sans Mono',consolas,'Courier New',monospace\">┏━━━━━━━━━━━━━━━━━━━━━┳━━━━━━━━━━━━━━━━━━━┳━━━━━━━━━━━━┳━━━━━━━━━━━━━━━━━━━┓\n",
       "┃<span style=\"font-weight: bold\"> Layer (type)        </span>┃<span style=\"font-weight: bold\"> Output Shape      </span>┃<span style=\"font-weight: bold\">    Param # </span>┃<span style=\"font-weight: bold\"> Connected to      </span>┃\n",
       "┡━━━━━━━━━━━━━━━━━━━━━╇━━━━━━━━━━━━━━━━━━━╇━━━━━━━━━━━━╇━━━━━━━━━━━━━━━━━━━┩\n",
       "│ input_layer_42      │ (<span style=\"color: #00d7ff; text-decoration-color: #00d7ff\">None</span>, <span style=\"color: #00af00; text-decoration-color: #00af00\">128</span>, <span style=\"color: #00af00; text-decoration-color: #00af00\">128</span>,  │          <span style=\"color: #00af00; text-decoration-color: #00af00\">0</span> │ -                 │\n",
       "│ (<span style=\"color: #0087ff; text-decoration-color: #0087ff\">InputLayer</span>)        │ <span style=\"color: #00af00; text-decoration-color: #00af00\">3</span>)                │            │                   │\n",
       "├─────────────────────┼───────────────────┼────────────┼───────────────────┤\n",
       "│ conv2d_126 (<span style=\"color: #0087ff; text-decoration-color: #0087ff\">Conv2D</span>) │ (<span style=\"color: #00d7ff; text-decoration-color: #00d7ff\">None</span>, <span style=\"color: #00af00; text-decoration-color: #00af00\">126</span>, <span style=\"color: #00af00; text-decoration-color: #00af00\">126</span>,  │        <span style=\"color: #00af00; text-decoration-color: #00af00\">896</span> │ input_layer_42[<span style=\"color: #00af00; text-decoration-color: #00af00\">0</span>… │\n",
       "│                     │ <span style=\"color: #00af00; text-decoration-color: #00af00\">32</span>)               │            │                   │\n",
       "├─────────────────────┼───────────────────┼────────────┼───────────────────┤\n",
       "│ max_pooling2d_126   │ (<span style=\"color: #00d7ff; text-decoration-color: #00d7ff\">None</span>, <span style=\"color: #00af00; text-decoration-color: #00af00\">63</span>, <span style=\"color: #00af00; text-decoration-color: #00af00\">63</span>,    │          <span style=\"color: #00af00; text-decoration-color: #00af00\">0</span> │ conv2d_126[<span style=\"color: #00af00; text-decoration-color: #00af00\">0</span>][<span style=\"color: #00af00; text-decoration-color: #00af00\">0</span>]  │\n",
       "│ (<span style=\"color: #0087ff; text-decoration-color: #0087ff\">MaxPooling2D</span>)      │ <span style=\"color: #00af00; text-decoration-color: #00af00\">32</span>)               │            │                   │\n",
       "├─────────────────────┼───────────────────┼────────────┼───────────────────┤\n",
       "│ conv2d_127 (<span style=\"color: #0087ff; text-decoration-color: #0087ff\">Conv2D</span>) │ (<span style=\"color: #00d7ff; text-decoration-color: #00d7ff\">None</span>, <span style=\"color: #00af00; text-decoration-color: #00af00\">61</span>, <span style=\"color: #00af00; text-decoration-color: #00af00\">61</span>,    │     <span style=\"color: #00af00; text-decoration-color: #00af00\">18,496</span> │ max_pooling2d_12… │\n",
       "│                     │ <span style=\"color: #00af00; text-decoration-color: #00af00\">64</span>)               │            │                   │\n",
       "├─────────────────────┼───────────────────┼────────────┼───────────────────┤\n",
       "│ max_pooling2d_127   │ (<span style=\"color: #00d7ff; text-decoration-color: #00d7ff\">None</span>, <span style=\"color: #00af00; text-decoration-color: #00af00\">30</span>, <span style=\"color: #00af00; text-decoration-color: #00af00\">30</span>,    │          <span style=\"color: #00af00; text-decoration-color: #00af00\">0</span> │ conv2d_127[<span style=\"color: #00af00; text-decoration-color: #00af00\">0</span>][<span style=\"color: #00af00; text-decoration-color: #00af00\">0</span>]  │\n",
       "│ (<span style=\"color: #0087ff; text-decoration-color: #0087ff\">MaxPooling2D</span>)      │ <span style=\"color: #00af00; text-decoration-color: #00af00\">64</span>)               │            │                   │\n",
       "├─────────────────────┼───────────────────┼────────────┼───────────────────┤\n",
       "│ conv2d_128 (<span style=\"color: #0087ff; text-decoration-color: #0087ff\">Conv2D</span>) │ (<span style=\"color: #00d7ff; text-decoration-color: #00d7ff\">None</span>, <span style=\"color: #00af00; text-decoration-color: #00af00\">28</span>, <span style=\"color: #00af00; text-decoration-color: #00af00\">28</span>,    │     <span style=\"color: #00af00; text-decoration-color: #00af00\">73,856</span> │ max_pooling2d_12… │\n",
       "│                     │ <span style=\"color: #00af00; text-decoration-color: #00af00\">128</span>)              │            │                   │\n",
       "├─────────────────────┼───────────────────┼────────────┼───────────────────┤\n",
       "│ max_pooling2d_128   │ (<span style=\"color: #00d7ff; text-decoration-color: #00d7ff\">None</span>, <span style=\"color: #00af00; text-decoration-color: #00af00\">14</span>, <span style=\"color: #00af00; text-decoration-color: #00af00\">14</span>,    │          <span style=\"color: #00af00; text-decoration-color: #00af00\">0</span> │ conv2d_128[<span style=\"color: #00af00; text-decoration-color: #00af00\">0</span>][<span style=\"color: #00af00; text-decoration-color: #00af00\">0</span>]  │\n",
       "│ (<span style=\"color: #0087ff; text-decoration-color: #0087ff\">MaxPooling2D</span>)      │ <span style=\"color: #00af00; text-decoration-color: #00af00\">128</span>)              │            │                   │\n",
       "├─────────────────────┼───────────────────┼────────────┼───────────────────┤\n",
       "│ flatten_38          │ (<span style=\"color: #00d7ff; text-decoration-color: #00d7ff\">None</span>, <span style=\"color: #00af00; text-decoration-color: #00af00\">25088</span>)     │          <span style=\"color: #00af00; text-decoration-color: #00af00\">0</span> │ max_pooling2d_12… │\n",
       "│ (<span style=\"color: #0087ff; text-decoration-color: #0087ff\">Flatten</span>)           │                   │            │                   │\n",
       "├─────────────────────┼───────────────────┼────────────┼───────────────────┤\n",
       "│ dense_61 (<span style=\"color: #0087ff; text-decoration-color: #0087ff\">Dense</span>)    │ (<span style=\"color: #00d7ff; text-decoration-color: #00d7ff\">None</span>, <span style=\"color: #00af00; text-decoration-color: #00af00\">512</span>)       │ <span style=\"color: #00af00; text-decoration-color: #00af00\">12,845,568</span> │ flatten_38[<span style=\"color: #00af00; text-decoration-color: #00af00\">0</span>][<span style=\"color: #00af00; text-decoration-color: #00af00\">0</span>]  │\n",
       "├─────────────────────┼───────────────────┼────────────┼───────────────────┤\n",
       "│ dense_59 (<span style=\"color: #0087ff; text-decoration-color: #0087ff\">Dense</span>)    │ (<span style=\"color: #00d7ff; text-decoration-color: #00d7ff\">None</span>, <span style=\"color: #00af00; text-decoration-color: #00af00\">512</span>)       │ <span style=\"color: #00af00; text-decoration-color: #00af00\">12,845,568</span> │ flatten_38[<span style=\"color: #00af00; text-decoration-color: #00af00\">0</span>][<span style=\"color: #00af00; text-decoration-color: #00af00\">0</span>]  │\n",
       "├─────────────────────┼───────────────────┼────────────┼───────────────────┤\n",
       "│ dropout_54          │ (<span style=\"color: #00d7ff; text-decoration-color: #00d7ff\">None</span>, <span style=\"color: #00af00; text-decoration-color: #00af00\">512</span>)       │          <span style=\"color: #00af00; text-decoration-color: #00af00\">0</span> │ dense_61[<span style=\"color: #00af00; text-decoration-color: #00af00\">0</span>][<span style=\"color: #00af00; text-decoration-color: #00af00\">0</span>]    │\n",
       "│ (<span style=\"color: #0087ff; text-decoration-color: #0087ff\">Dropout</span>)           │                   │            │                   │\n",
       "├─────────────────────┼───────────────────┼────────────┼───────────────────┤\n",
       "│ dropout_53          │ (<span style=\"color: #00d7ff; text-decoration-color: #00d7ff\">None</span>, <span style=\"color: #00af00; text-decoration-color: #00af00\">512</span>)       │          <span style=\"color: #00af00; text-decoration-color: #00af00\">0</span> │ dense_59[<span style=\"color: #00af00; text-decoration-color: #00af00\">0</span>][<span style=\"color: #00af00; text-decoration-color: #00af00\">0</span>]    │\n",
       "│ (<span style=\"color: #0087ff; text-decoration-color: #0087ff\">Dropout</span>)           │                   │            │                   │\n",
       "├─────────────────────┼───────────────────┼────────────┼───────────────────┤\n",
       "│ dense_62 (<span style=\"color: #0087ff; text-decoration-color: #0087ff\">Dense</span>)    │ (<span style=\"color: #00d7ff; text-decoration-color: #00d7ff\">None</span>, <span style=\"color: #00af00; text-decoration-color: #00af00\">256</span>)       │    <span style=\"color: #00af00; text-decoration-color: #00af00\">131,328</span> │ dropout_54[<span style=\"color: #00af00; text-decoration-color: #00af00\">0</span>][<span style=\"color: #00af00; text-decoration-color: #00af00\">0</span>]  │\n",
       "├─────────────────────┼───────────────────┼────────────┼───────────────────┤\n",
       "│ dense_60 (<span style=\"color: #0087ff; text-decoration-color: #0087ff\">Dense</span>)    │ (<span style=\"color: #00d7ff; text-decoration-color: #00d7ff\">None</span>, <span style=\"color: #00af00; text-decoration-color: #00af00\">256</span>)       │    <span style=\"color: #00af00; text-decoration-color: #00af00\">131,328</span> │ dropout_53[<span style=\"color: #00af00; text-decoration-color: #00af00\">0</span>][<span style=\"color: #00af00; text-decoration-color: #00af00\">0</span>]  │\n",
       "├─────────────────────┼───────────────────┼────────────┼───────────────────┤\n",
       "│ color_output        │ (<span style=\"color: #00d7ff; text-decoration-color: #00d7ff\">None</span>, <span style=\"color: #00af00; text-decoration-color: #00af00\">207</span>)       │     <span style=\"color: #00af00; text-decoration-color: #00af00\">53,199</span> │ dense_62[<span style=\"color: #00af00; text-decoration-color: #00af00\">0</span>][<span style=\"color: #00af00; text-decoration-color: #00af00\">0</span>]    │\n",
       "│ (<span style=\"color: #0087ff; text-decoration-color: #0087ff\">Dense</span>)             │                   │            │                   │\n",
       "├─────────────────────┼───────────────────┼────────────┼───────────────────┤\n",
       "│ type_output (<span style=\"color: #0087ff; text-decoration-color: #0087ff\">Dense</span>) │ (<span style=\"color: #00d7ff; text-decoration-color: #00d7ff\">None</span>, <span style=\"color: #00af00; text-decoration-color: #00af00\">50</span>)        │     <span style=\"color: #00af00; text-decoration-color: #00af00\">12,850</span> │ dense_60[<span style=\"color: #00af00; text-decoration-color: #00af00\">0</span>][<span style=\"color: #00af00; text-decoration-color: #00af00\">0</span>]    │\n",
       "└─────────────────────┴───────────────────┴────────────┴───────────────────┘\n",
       "</pre>\n"
      ],
      "text/plain": [
       "┏━━━━━━━━━━━━━━━━━━━━━┳━━━━━━━━━━━━━━━━━━━┳━━━━━━━━━━━━┳━━━━━━━━━━━━━━━━━━━┓\n",
       "┃\u001b[1m \u001b[0m\u001b[1mLayer (type)       \u001b[0m\u001b[1m \u001b[0m┃\u001b[1m \u001b[0m\u001b[1mOutput Shape     \u001b[0m\u001b[1m \u001b[0m┃\u001b[1m \u001b[0m\u001b[1m   Param #\u001b[0m\u001b[1m \u001b[0m┃\u001b[1m \u001b[0m\u001b[1mConnected to     \u001b[0m\u001b[1m \u001b[0m┃\n",
       "┡━━━━━━━━━━━━━━━━━━━━━╇━━━━━━━━━━━━━━━━━━━╇━━━━━━━━━━━━╇━━━━━━━━━━━━━━━━━━━┩\n",
       "│ input_layer_42      │ (\u001b[38;5;45mNone\u001b[0m, \u001b[38;5;34m128\u001b[0m, \u001b[38;5;34m128\u001b[0m,  │          \u001b[38;5;34m0\u001b[0m │ -                 │\n",
       "│ (\u001b[38;5;33mInputLayer\u001b[0m)        │ \u001b[38;5;34m3\u001b[0m)                │            │                   │\n",
       "├─────────────────────┼───────────────────┼────────────┼───────────────────┤\n",
       "│ conv2d_126 (\u001b[38;5;33mConv2D\u001b[0m) │ (\u001b[38;5;45mNone\u001b[0m, \u001b[38;5;34m126\u001b[0m, \u001b[38;5;34m126\u001b[0m,  │        \u001b[38;5;34m896\u001b[0m │ input_layer_42[\u001b[38;5;34m0\u001b[0m… │\n",
       "│                     │ \u001b[38;5;34m32\u001b[0m)               │            │                   │\n",
       "├─────────────────────┼───────────────────┼────────────┼───────────────────┤\n",
       "│ max_pooling2d_126   │ (\u001b[38;5;45mNone\u001b[0m, \u001b[38;5;34m63\u001b[0m, \u001b[38;5;34m63\u001b[0m,    │          \u001b[38;5;34m0\u001b[0m │ conv2d_126[\u001b[38;5;34m0\u001b[0m][\u001b[38;5;34m0\u001b[0m]  │\n",
       "│ (\u001b[38;5;33mMaxPooling2D\u001b[0m)      │ \u001b[38;5;34m32\u001b[0m)               │            │                   │\n",
       "├─────────────────────┼───────────────────┼────────────┼───────────────────┤\n",
       "│ conv2d_127 (\u001b[38;5;33mConv2D\u001b[0m) │ (\u001b[38;5;45mNone\u001b[0m, \u001b[38;5;34m61\u001b[0m, \u001b[38;5;34m61\u001b[0m,    │     \u001b[38;5;34m18,496\u001b[0m │ max_pooling2d_12… │\n",
       "│                     │ \u001b[38;5;34m64\u001b[0m)               │            │                   │\n",
       "├─────────────────────┼───────────────────┼────────────┼───────────────────┤\n",
       "│ max_pooling2d_127   │ (\u001b[38;5;45mNone\u001b[0m, \u001b[38;5;34m30\u001b[0m, \u001b[38;5;34m30\u001b[0m,    │          \u001b[38;5;34m0\u001b[0m │ conv2d_127[\u001b[38;5;34m0\u001b[0m][\u001b[38;5;34m0\u001b[0m]  │\n",
       "│ (\u001b[38;5;33mMaxPooling2D\u001b[0m)      │ \u001b[38;5;34m64\u001b[0m)               │            │                   │\n",
       "├─────────────────────┼───────────────────┼────────────┼───────────────────┤\n",
       "│ conv2d_128 (\u001b[38;5;33mConv2D\u001b[0m) │ (\u001b[38;5;45mNone\u001b[0m, \u001b[38;5;34m28\u001b[0m, \u001b[38;5;34m28\u001b[0m,    │     \u001b[38;5;34m73,856\u001b[0m │ max_pooling2d_12… │\n",
       "│                     │ \u001b[38;5;34m128\u001b[0m)              │            │                   │\n",
       "├─────────────────────┼───────────────────┼────────────┼───────────────────┤\n",
       "│ max_pooling2d_128   │ (\u001b[38;5;45mNone\u001b[0m, \u001b[38;5;34m14\u001b[0m, \u001b[38;5;34m14\u001b[0m,    │          \u001b[38;5;34m0\u001b[0m │ conv2d_128[\u001b[38;5;34m0\u001b[0m][\u001b[38;5;34m0\u001b[0m]  │\n",
       "│ (\u001b[38;5;33mMaxPooling2D\u001b[0m)      │ \u001b[38;5;34m128\u001b[0m)              │            │                   │\n",
       "├─────────────────────┼───────────────────┼────────────┼───────────────────┤\n",
       "│ flatten_38          │ (\u001b[38;5;45mNone\u001b[0m, \u001b[38;5;34m25088\u001b[0m)     │          \u001b[38;5;34m0\u001b[0m │ max_pooling2d_12… │\n",
       "│ (\u001b[38;5;33mFlatten\u001b[0m)           │                   │            │                   │\n",
       "├─────────────────────┼───────────────────┼────────────┼───────────────────┤\n",
       "│ dense_61 (\u001b[38;5;33mDense\u001b[0m)    │ (\u001b[38;5;45mNone\u001b[0m, \u001b[38;5;34m512\u001b[0m)       │ \u001b[38;5;34m12,845,568\u001b[0m │ flatten_38[\u001b[38;5;34m0\u001b[0m][\u001b[38;5;34m0\u001b[0m]  │\n",
       "├─────────────────────┼───────────────────┼────────────┼───────────────────┤\n",
       "│ dense_59 (\u001b[38;5;33mDense\u001b[0m)    │ (\u001b[38;5;45mNone\u001b[0m, \u001b[38;5;34m512\u001b[0m)       │ \u001b[38;5;34m12,845,568\u001b[0m │ flatten_38[\u001b[38;5;34m0\u001b[0m][\u001b[38;5;34m0\u001b[0m]  │\n",
       "├─────────────────────┼───────────────────┼────────────┼───────────────────┤\n",
       "│ dropout_54          │ (\u001b[38;5;45mNone\u001b[0m, \u001b[38;5;34m512\u001b[0m)       │          \u001b[38;5;34m0\u001b[0m │ dense_61[\u001b[38;5;34m0\u001b[0m][\u001b[38;5;34m0\u001b[0m]    │\n",
       "│ (\u001b[38;5;33mDropout\u001b[0m)           │                   │            │                   │\n",
       "├─────────────────────┼───────────────────┼────────────┼───────────────────┤\n",
       "│ dropout_53          │ (\u001b[38;5;45mNone\u001b[0m, \u001b[38;5;34m512\u001b[0m)       │          \u001b[38;5;34m0\u001b[0m │ dense_59[\u001b[38;5;34m0\u001b[0m][\u001b[38;5;34m0\u001b[0m]    │\n",
       "│ (\u001b[38;5;33mDropout\u001b[0m)           │                   │            │                   │\n",
       "├─────────────────────┼───────────────────┼────────────┼───────────────────┤\n",
       "│ dense_62 (\u001b[38;5;33mDense\u001b[0m)    │ (\u001b[38;5;45mNone\u001b[0m, \u001b[38;5;34m256\u001b[0m)       │    \u001b[38;5;34m131,328\u001b[0m │ dropout_54[\u001b[38;5;34m0\u001b[0m][\u001b[38;5;34m0\u001b[0m]  │\n",
       "├─────────────────────┼───────────────────┼────────────┼───────────────────┤\n",
       "│ dense_60 (\u001b[38;5;33mDense\u001b[0m)    │ (\u001b[38;5;45mNone\u001b[0m, \u001b[38;5;34m256\u001b[0m)       │    \u001b[38;5;34m131,328\u001b[0m │ dropout_53[\u001b[38;5;34m0\u001b[0m][\u001b[38;5;34m0\u001b[0m]  │\n",
       "├─────────────────────┼───────────────────┼────────────┼───────────────────┤\n",
       "│ color_output        │ (\u001b[38;5;45mNone\u001b[0m, \u001b[38;5;34m207\u001b[0m)       │     \u001b[38;5;34m53,199\u001b[0m │ dense_62[\u001b[38;5;34m0\u001b[0m][\u001b[38;5;34m0\u001b[0m]    │\n",
       "│ (\u001b[38;5;33mDense\u001b[0m)             │                   │            │                   │\n",
       "├─────────────────────┼───────────────────┼────────────┼───────────────────┤\n",
       "│ type_output (\u001b[38;5;33mDense\u001b[0m) │ (\u001b[38;5;45mNone\u001b[0m, \u001b[38;5;34m50\u001b[0m)        │     \u001b[38;5;34m12,850\u001b[0m │ dense_60[\u001b[38;5;34m0\u001b[0m][\u001b[38;5;34m0\u001b[0m]    │\n",
       "└─────────────────────┴───────────────────┴────────────┴───────────────────┘\n"
      ]
     },
     "metadata": {},
     "output_type": "display_data"
    },
    {
     "data": {
      "text/html": [
       "<pre style=\"white-space:pre;overflow-x:auto;line-height:normal;font-family:Menlo,'DejaVu Sans Mono',consolas,'Courier New',monospace\"><span style=\"font-weight: bold\"> Total params: </span><span style=\"color: #00af00; text-decoration-color: #00af00\">26,113,089</span> (99.61 MB)\n",
       "</pre>\n"
      ],
      "text/plain": [
       "\u001b[1m Total params: \u001b[0m\u001b[38;5;34m26,113,089\u001b[0m (99.61 MB)\n"
      ]
     },
     "metadata": {},
     "output_type": "display_data"
    },
    {
     "data": {
      "text/html": [
       "<pre style=\"white-space:pre;overflow-x:auto;line-height:normal;font-family:Menlo,'DejaVu Sans Mono',consolas,'Courier New',monospace\"><span style=\"font-weight: bold\"> Trainable params: </span><span style=\"color: #00af00; text-decoration-color: #00af00\">26,113,089</span> (99.61 MB)\n",
       "</pre>\n"
      ],
      "text/plain": [
       "\u001b[1m Trainable params: \u001b[0m\u001b[38;5;34m26,113,089\u001b[0m (99.61 MB)\n"
      ]
     },
     "metadata": {},
     "output_type": "display_data"
    },
    {
     "data": {
      "text/html": [
       "<pre style=\"white-space:pre;overflow-x:auto;line-height:normal;font-family:Menlo,'DejaVu Sans Mono',consolas,'Courier New',monospace\"><span style=\"font-weight: bold\"> Non-trainable params: </span><span style=\"color: #00af00; text-decoration-color: #00af00\">0</span> (0.00 B)\n",
       "</pre>\n"
      ],
      "text/plain": [
       "\u001b[1m Non-trainable params: \u001b[0m\u001b[38;5;34m0\u001b[0m (0.00 B)\n"
      ]
     },
     "metadata": {},
     "output_type": "display_data"
    },
    {
     "name": "stdout",
     "output_type": "stream",
     "text": [
      "Epoch 1/20\n",
      "\u001b[1m53/53\u001b[0m \u001b[32m━━━━━━━━━━━━━━━━━━━━\u001b[0m\u001b[37m\u001b[0m \u001b[1m9s\u001b[0m 150ms/step - color_output_accuracy: 0.2205 - color_output_loss: 4.1745 - loss: 7.5442 - type_output_accuracy: 0.1483 - type_output_loss: 3.3693 - val_color_output_accuracy: 0.2291 - val_color_output_loss: 3.5367 - val_loss: 6.1749 - val_type_output_accuracy: 0.3437 - val_type_output_loss: 2.5920\n",
      "Epoch 2/20\n",
      "\u001b[1m53/53\u001b[0m \u001b[32m━━━━━━━━━━━━━━━━━━━━\u001b[0m\u001b[37m\u001b[0m \u001b[1m8s\u001b[0m 145ms/step - color_output_accuracy: 0.2909 - color_output_loss: 3.1281 - loss: 5.5066 - type_output_accuracy: 0.3845 - type_output_loss: 2.3781 - val_color_output_accuracy: 0.2625 - val_color_output_loss: 3.1453 - val_loss: 5.1989 - val_type_output_accuracy: 0.5012 - val_type_output_loss: 2.0153\n",
      "Epoch 3/20\n",
      "\u001b[1m53/53\u001b[0m \u001b[32m━━━━━━━━━━━━━━━━━━━━\u001b[0m\u001b[37m\u001b[0m \u001b[1m8s\u001b[0m 147ms/step - color_output_accuracy: 0.3157 - color_output_loss: 2.9167 - loss: 4.8121 - type_output_accuracy: 0.4836 - type_output_loss: 1.8953 - val_color_output_accuracy: 0.3198 - val_color_output_loss: 3.0758 - val_loss: 4.9616 - val_type_output_accuracy: 0.5155 - val_type_output_loss: 1.8638\n",
      "Epoch 4/20\n",
      "\u001b[1m53/53\u001b[0m \u001b[32m━━━━━━━━━━━━━━━━━━━━\u001b[0m\u001b[37m\u001b[0m \u001b[1m8s\u001b[0m 145ms/step - color_output_accuracy: 0.3844 - color_output_loss: 2.5983 - loss: 4.2439 - type_output_accuracy: 0.5360 - type_output_loss: 1.6451 - val_color_output_accuracy: 0.3413 - val_color_output_loss: 2.8712 - val_loss: 4.5048 - val_type_output_accuracy: 0.5632 - val_type_output_loss: 1.5762\n",
      "Epoch 5/20\n",
      "\u001b[1m53/53\u001b[0m \u001b[32m━━━━━━━━━━━━━━━━━━━━\u001b[0m\u001b[37m\u001b[0m \u001b[1m8s\u001b[0m 148ms/step - color_output_accuracy: 0.4265 - color_output_loss: 2.3067 - loss: 3.7693 - type_output_accuracy: 0.5899 - type_output_loss: 1.4628 - val_color_output_accuracy: 0.3437 - val_color_output_loss: 2.7794 - val_loss: 4.2715 - val_type_output_accuracy: 0.6277 - val_type_output_loss: 1.4810\n",
      "Epoch 6/20\n",
      "\u001b[1m53/53\u001b[0m \u001b[32m━━━━━━━━━━━━━━━━━━━━\u001b[0m\u001b[37m\u001b[0m \u001b[1m8s\u001b[0m 145ms/step - color_output_accuracy: 0.4636 - color_output_loss: 2.0949 - loss: 3.3884 - type_output_accuracy: 0.6468 - type_output_loss: 1.2933 - val_color_output_accuracy: 0.3747 - val_color_output_loss: 2.6589 - val_loss: 4.2584 - val_type_output_accuracy: 0.5919 - val_type_output_loss: 1.5330\n",
      "Epoch 7/20\n",
      "\u001b[1m53/53\u001b[0m \u001b[32m━━━━━━━━━━━━━━━━━━━━\u001b[0m\u001b[37m\u001b[0m \u001b[1m8s\u001b[0m 148ms/step - color_output_accuracy: 0.4736 - color_output_loss: 2.0208 - loss: 3.2287 - type_output_accuracy: 0.6594 - type_output_loss: 1.2078 - val_color_output_accuracy: 0.4368 - val_color_output_loss: 2.5592 - val_loss: 3.9398 - val_type_output_accuracy: 0.6372 - val_type_output_loss: 1.3184\n",
      "Epoch 8/20\n",
      "\u001b[1m53/53\u001b[0m \u001b[32m━━━━━━━━━━━━━━━━━━━━\u001b[0m\u001b[37m\u001b[0m \u001b[1m8s\u001b[0m 145ms/step - color_output_accuracy: 0.5227 - color_output_loss: 1.8316 - loss: 2.7716 - type_output_accuracy: 0.7171 - type_output_loss: 0.9397 - val_color_output_accuracy: 0.4511 - val_color_output_loss: 2.5594 - val_loss: 3.9630 - val_type_output_accuracy: 0.6802 - val_type_output_loss: 1.3226\n",
      "Epoch 9/20\n",
      "\u001b[1m53/53\u001b[0m \u001b[32m━━━━━━━━━━━━━━━━━━━━\u001b[0m\u001b[37m\u001b[0m \u001b[1m8s\u001b[0m 146ms/step - color_output_accuracy: 0.5585 - color_output_loss: 1.7205 - loss: 2.6329 - type_output_accuracy: 0.7353 - type_output_loss: 0.9125 - val_color_output_accuracy: 0.5036 - val_color_output_loss: 2.5626 - val_loss: 3.9334 - val_type_output_accuracy: 0.6372 - val_type_output_loss: 1.3085\n",
      "Epoch 10/20\n",
      "\u001b[1m53/53\u001b[0m \u001b[32m━━━━━━━━━━━━━━━━━━━━\u001b[0m\u001b[37m\u001b[0m \u001b[1m8s\u001b[0m 146ms/step - color_output_accuracy: 0.6060 - color_output_loss: 1.4682 - loss: 2.2889 - type_output_accuracy: 0.7568 - type_output_loss: 0.8208 - val_color_output_accuracy: 0.5036 - val_color_output_loss: 2.5567 - val_loss: 3.8706 - val_type_output_accuracy: 0.6683 - val_type_output_loss: 1.2587\n",
      "Epoch 11/20\n",
      "\u001b[1m53/53\u001b[0m \u001b[32m━━━━━━━━━━━━━━━━━━━━\u001b[0m\u001b[37m\u001b[0m \u001b[1m8s\u001b[0m 150ms/step - color_output_accuracy: 0.6274 - color_output_loss: 1.3314 - loss: 2.0333 - type_output_accuracy: 0.7837 - type_output_loss: 0.7021 - val_color_output_accuracy: 0.5012 - val_color_output_loss: 2.6195 - val_loss: 4.0085 - val_type_output_accuracy: 0.6659 - val_type_output_loss: 1.3230\n",
      "Epoch 12/20\n",
      "\u001b[1m53/53\u001b[0m \u001b[32m━━━━━━━━━━━━━━━━━━━━\u001b[0m\u001b[37m\u001b[0m \u001b[1m8s\u001b[0m 149ms/step - color_output_accuracy: 0.6468 - color_output_loss: 1.2908 - loss: 1.9790 - type_output_accuracy: 0.7845 - type_output_loss: 0.6889 - val_color_output_accuracy: 0.4845 - val_color_output_loss: 2.6603 - val_loss: 4.0058 - val_type_output_accuracy: 0.6993 - val_type_output_loss: 1.2553\n",
      "Epoch 13/20\n",
      "\u001b[1m53/53\u001b[0m \u001b[32m━━━━━━━━━━━━━━━━━━━━\u001b[0m\u001b[37m\u001b[0m \u001b[1m8s\u001b[0m 155ms/step - color_output_accuracy: 0.6825 - color_output_loss: 1.1321 - loss: 1.7501 - type_output_accuracy: 0.8090 - type_output_loss: 0.6177 - val_color_output_accuracy: 0.5179 - val_color_output_loss: 2.7165 - val_loss: 4.0164 - val_type_output_accuracy: 0.7041 - val_type_output_loss: 1.2367\n",
      "Epoch 14/20\n",
      "\u001b[1m53/53\u001b[0m \u001b[32m━━━━━━━━━━━━━━━━━━━━\u001b[0m\u001b[37m\u001b[0m \u001b[1m8s\u001b[0m 151ms/step - color_output_accuracy: 0.6830 - color_output_loss: 1.0712 - loss: 1.6272 - type_output_accuracy: 0.8246 - type_output_loss: 0.5561 - val_color_output_accuracy: 0.5274 - val_color_output_loss: 2.7047 - val_loss: 4.1134 - val_type_output_accuracy: 0.6802 - val_type_output_loss: 1.3315\n",
      "Epoch 15/20\n",
      "\u001b[1m53/53\u001b[0m \u001b[32m━━━━━━━━━━━━━━━━━━━━\u001b[0m\u001b[37m\u001b[0m \u001b[1m8s\u001b[0m 147ms/step - color_output_accuracy: 0.7122 - color_output_loss: 0.9830 - loss: 1.5090 - type_output_accuracy: 0.8197 - type_output_loss: 0.5259 - val_color_output_accuracy: 0.5251 - val_color_output_loss: 2.9148 - val_loss: 4.3942 - val_type_output_accuracy: 0.6826 - val_type_output_loss: 1.4050\n",
      "Epoch 16/20\n",
      "\u001b[1m53/53\u001b[0m \u001b[32m━━━━━━━━━━━━━━━━━━━━\u001b[0m\u001b[37m\u001b[0m \u001b[1m8s\u001b[0m 149ms/step - color_output_accuracy: 0.7140 - color_output_loss: 0.9702 - loss: 1.4606 - type_output_accuracy: 0.8543 - type_output_loss: 0.4908 - val_color_output_accuracy: 0.5131 - val_color_output_loss: 2.9571 - val_loss: 4.4920 - val_type_output_accuracy: 0.7041 - val_type_output_loss: 1.4006\n",
      "Epoch 17/20\n",
      "\u001b[1m53/53\u001b[0m \u001b[32m━━━━━━━━━━━━━━━━━━━━\u001b[0m\u001b[37m\u001b[0m \u001b[1m8s\u001b[0m 148ms/step - color_output_accuracy: 0.7474 - color_output_loss: 0.8323 - loss: 1.1997 - type_output_accuracy: 0.8841 - type_output_loss: 0.3674 - val_color_output_accuracy: 0.5298 - val_color_output_loss: 2.9091 - val_loss: 4.3877 - val_type_output_accuracy: 0.6993 - val_type_output_loss: 1.3735\n",
      "Epoch 18/20\n",
      "\u001b[1m53/53\u001b[0m \u001b[32m━━━━━━━━━━━━━━━━━━━━\u001b[0m\u001b[37m\u001b[0m \u001b[1m8s\u001b[0m 148ms/step - color_output_accuracy: 0.7670 - color_output_loss: 0.7673 - loss: 1.1293 - type_output_accuracy: 0.8799 - type_output_loss: 0.3620 - val_color_output_accuracy: 0.5131 - val_color_output_loss: 3.2726 - val_loss: 4.8350 - val_type_output_accuracy: 0.7351 - val_type_output_loss: 1.4649\n",
      "Epoch 19/20\n",
      "\u001b[1m53/53\u001b[0m \u001b[32m━━━━━━━━━━━━━━━━━━━━\u001b[0m\u001b[37m\u001b[0m \u001b[1m8s\u001b[0m 149ms/step - color_output_accuracy: 0.7844 - color_output_loss: 0.7071 - loss: 1.0962 - type_output_accuracy: 0.8782 - type_output_loss: 0.3894 - val_color_output_accuracy: 0.5012 - val_color_output_loss: 3.4112 - val_loss: 5.0831 - val_type_output_accuracy: 0.6993 - val_type_output_loss: 1.5063\n",
      "Epoch 20/20\n",
      "\u001b[1m53/53\u001b[0m \u001b[32m━━━━━━━━━━━━━━━━━━━━\u001b[0m\u001b[37m\u001b[0m \u001b[1m8s\u001b[0m 150ms/step - color_output_accuracy: 0.7734 - color_output_loss: 0.7443 - loss: 1.1296 - type_output_accuracy: 0.8729 - type_output_loss: 0.3855 - val_color_output_accuracy: 0.5155 - val_color_output_loss: 3.2706 - val_loss: 5.0329 - val_type_output_accuracy: 0.7160 - val_type_output_loss: 1.5718\n",
      "\u001b[1m14/14\u001b[0m \u001b[32m━━━━━━━━━━━━━━━━━━━━\u001b[0m\u001b[37m\u001b[0m \u001b[1m1s\u001b[0m 37ms/step - color_output_accuracy: 0.5253 - color_output_loss: 3.5054 - loss: 5.2769 - type_output_accuracy: 0.6797 - type_output_loss: 1.7461\n",
      "\n",
      "Final Results:\n",
      "\n",
      "All metrics: {'loss': 5.032907485961914, 'compile_metrics': 3.2706432342529297, 'color_output_loss': 1.571803331375122, 'type_output_loss': 0.5155131220817566}\n"
     ]
    }
   ],
   "source": [
    "import os\n",
    "import pandas as pd\n",
    "import numpy as np\n",
    "import tensorflow as tf\n",
    "from sklearn.model_selection import train_test_split\n",
    "from collections import Counter\n",
    "from PIL import Image\n",
    "\n",
    "folder_path = 'aritzia_images'\n",
    "images = []\n",
    "types = []\n",
    "colors = []\n",
    "\n",
    "for filename in os.listdir(folder_path):\n",
    "    if filename.endswith(\".jpg\"):\n",
    "        name_part = filename.rsplit('.', 1)[0]\n",
    "        type_and_color = name_part.split('_', 1)\n",
    "        \n",
    "        item_type = type_and_color[0].split()[-1].strip()\n",
    "        color = type_and_color[1].split()[-1].strip()\n",
    "        \n",
    "        if color.lower() != \"unknown\":\n",
    "            types.append(item_type)\n",
    "            colors.append(color)\n",
    "           \n",
    "            img = Image.open(os.path.join(folder_path, filename)).resize((128, 128))\n",
    "            images.append(np.array(img) / 255.0)\n",
    "\n",
    "images = np.array(images)\n",
    "\n",
    "types_array = np.array(types)\n",
    "colors_array = np.array(colors)\n",
    "\n",
    "num_types = len(np.unique(types_array))\n",
    "num_colors = len(np.unique(colors_array))\n",
    "print(f\"Number of unique types: {num_types}\")\n",
    "print(f\"Number of unique colors: {num_colors}\")\n",
    "\n",
    "type_encoder = pd.factorize(pd.Series(types_array))\n",
    "color_encoder = pd.factorize(pd.Series(colors_array))\n",
    "\n",
    "type_labels = tf.keras.utils.to_categorical(type_encoder[0], num_classes=num_types)\n",
    "color_labels = tf.keras.utils.to_categorical(color_encoder[0], num_classes=num_colors)\n",
    "\n",
    "X_train, X_val, y_type_train, y_type_val, y_color_train, y_color_val = train_test_split(\n",
    "    images, type_labels, color_labels, test_size=0.2, random_state=42\n",
    ")\n",
    "\n",
    "print(\"\\nData shapes:\")\n",
    "print(f\"X_train: {X_train.shape}\")\n",
    "print(f\"X_val: {X_val.shape}\")\n",
    "print(f\"y_type_train: {y_type_train.shape}\")\n",
    "print(f\"y_type_val: {y_type_val.shape}\")\n",
    "print(f\"y_color_train: {y_color_train.shape}\")\n",
    "print(f\"y_color_val: {y_color_val.shape}\")\n",
    "\n",
    "input_layer = tf.keras.layers.Input(shape=(128, 128, 3))\n",
    "x = tf.keras.layers.Conv2D(32, (3, 3), activation='relu')(input_layer)\n",
    "x = tf.keras.layers.MaxPooling2D((2, 2))(x)\n",
    "x = tf.keras.layers.Conv2D(64, (3, 3), activation='relu')(x)\n",
    "x = tf.keras.layers.MaxPooling2D((2, 2))(x)\n",
    "x = tf.keras.layers.Conv2D(128, (3, 3), activation='relu')(x)\n",
    "x = tf.keras.layers.MaxPooling2D((2, 2))(x)\n",
    "shared_features = tf.keras.layers.Flatten()(x)\n",
    "\n",
    "type_x = tf.keras.layers.Dense(512, activation='relu')(shared_features)\n",
    "type_x = tf.keras.layers.Dropout(0.5)(type_x)\n",
    "type_x = tf.keras.layers.Dense(256, activation='relu')(type_x)\n",
    "type_output = tf.keras.layers.Dense(num_types, activation='softmax', name='type_output')(type_x)\n",
    "\n",
    "color_x = tf.keras.layers.Dense(512, activation='relu')(shared_features)\n",
    "color_x = tf.keras.layers.Dropout(0.5)(color_x)\n",
    "color_x = tf.keras.layers.Dense(256, activation='relu')(color_x)\n",
    "color_output = tf.keras.layers.Dense(num_colors, activation='softmax', name='color_output')(color_x)\n",
    "\n",
    "model = tf.keras.models.Model(\n",
    "    inputs=input_layer,\n",
    "    outputs={'type_output': type_output, 'color_output': color_output}\n",
    ")\n",
    "\n",
    "model.summary()\n",
    "\n",
    "model.compile(\n",
    "    optimizer=tf.keras.optimizers.Adam(learning_rate=0.001),\n",
    "    loss={\n",
    "        'type_output': 'categorical_crossentropy',\n",
    "        'color_output': 'categorical_crossentropy'\n",
    "    },\n",
    "    metrics={\n",
    "        'type_output': 'accuracy',\n",
    "        'color_output': 'accuracy'\n",
    "    }\n",
    ")\n",
    "\n",
    "history = model.fit(\n",
    "    x=X_train,\n",
    "    y={\n",
    "        'type_output': y_type_train,\n",
    "        'color_output': y_color_train\n",
    "    },\n",
    "    validation_data=(\n",
    "        X_val,\n",
    "        {\n",
    "            'type_output': y_type_val,\n",
    "            'color_output': y_color_val\n",
    "        }\n",
    "    ),\n",
    "    epochs=20,\n",
    "    batch_size=32,\n",
    ")\n",
    "\n",
    "results = model.evaluate(\n",
    "    X_val,\n",
    "    {\n",
    "        'type_output': y_type_val,\n",
    "        'color_output': y_color_val\n",
    "    }\n",
    ")\n",
    "\n",
    "print(\"\\nFinal Results:\")\n",
    "metrics = dict(zip(model.metrics_names, results))\n",
    "print(\"\\nAll metrics:\", metrics)"
   ]
  },
  {
   "cell_type": "code",
   "execution_count": 145,
   "id": "efce9d35-7624-4c51-93ac-fbb95ea64b21",
   "metadata": {},
   "outputs": [],
   "source": [
    "model.save('clothing_classifier.keras')"
   ]
  },
  {
   "cell_type": "code",
   "execution_count": 147,
   "id": "5fefc01b-6ac5-4108-bc6a-afa1699f3b79",
   "metadata": {},
   "outputs": [],
   "source": [
    "def predict_image(model, image_path, type_encoder, color_encoder):\n",
    "    try:\n",
    "        if not os.path.exists(image_path):\n",
    "            raise FileNotFoundError(f\"Image file not found: {image_path}\")\n",
    "        \n",
    "        img = Image.open(image_path)\n",
    "        \n",
    "        if img.mode in ('RGBA', 'LA') or (img.mode == 'P' and 'transparency' in img.info):\n",
    "            background = Image.new('RGB', img.size, (255, 255, 255))\n",
    "            if img.mode == 'RGBA':\n",
    "                background.paste(img, mask=img.split()[3])\n",
    "            else:\n",
    "                background.paste(img)\n",
    "            img = background\n",
    "        elif img.mode != 'RGB':\n",
    "            img = img.convert('RGB')\n",
    "            \n",
    "        img = img.resize((128, 128))\n",
    "        \n",
    "        img_array = np.array(img) / 255.0\n",
    "        \n",
    "        if img_array.shape != (128, 128, 3):\n",
    "            print(f\"Unexpected image shape: {img_array.shape}\")\n",
    "            raise ValueError(f\"Expected image shape (128, 128, 3), got {img_array.shape}\")\n",
    "            \n",
    "        img_array = np.expand_dims(img_array, axis=0)\n",
    "        \n",
    "        predictions = model.predict(img_array)\n",
    "        \n",
    "        type_pred_idx = np.argmax(predictions['type_output'][0])\n",
    "        color_pred_idx = np.argmax(predictions['color_output'][0])\n",
    "        \n",
    "        type_confidence = predictions['type_output'][0][type_pred_idx]\n",
    "        color_confidence = predictions['color_output'][0][color_pred_idx]\n",
    "        \n",
    "        predicted_type = type_encoder[1][type_pred_idx]\n",
    "        predicted_color = color_encoder[1][color_pred_idx]\n",
    "        \n",
    "        return predicted_type, predicted_color, type_confidence, color_confidence\n",
    "        \n",
    "    except Exception as e:\n",
    "        print(f\"Error processing image: {e}\")\n",
    "        print(f\"Image mode: {img.mode if 'img' in locals() else 'unknown'}\")\n",
    "        print(f\"Image size: {img.size if 'img' in locals() else 'unknown'}\")\n",
    "        return None\n",
    "\n",
    "def process_and_predict(image_path, model, type_encoder, color_encoder):\n",
    "    print(f\"Processing image: {image_path}\")\n",
    "    result = predict_image(model, image_path, type_encoder, color_encoder)\n",
    "    \n",
    "    if result is not None:\n",
    "        pred_type, pred_color, type_conf, color_conf = result\n",
    "        print(f\"Predicted Type: {pred_type} (Confidence: {type_conf:.2f})\")\n",
    "        print(f\"Predicted Color: {pred_color} (Confidence: {color_conf:.2f})\")\n",
    "    else:\n",
    "        print(\"Could not make prediction due to error processing the image.\")"
   ]
  },
  {
   "cell_type": "code",
   "execution_count": 149,
   "id": "bb9b8fba-6dbb-4975-a362-50d2aae121fd",
   "metadata": {},
   "outputs": [],
   "source": [
    "loaded_model = tf.keras.models.load_model('clothing_classifier.keras')"
   ]
  },
  {
   "cell_type": "code",
   "execution_count": 151,
   "id": "0d68d349-705f-4fba-ae44-1d774ac36a9d",
   "metadata": {},
   "outputs": [
    {
     "name": "stdout",
     "output_type": "stream",
     "text": [
      "\u001b[1m1/1\u001b[0m \u001b[32m━━━━━━━━━━━━━━━━━━━━\u001b[0m\u001b[37m\u001b[0m \u001b[1m0s\u001b[0m 45ms/step\n",
      "Predicted Type: DRESS (Confidence: 1.00)\n",
      "Predicted Color: OLIVE (Confidence: 0.93)\n"
     ]
    }
   ],
   "source": [
    "image_path = 'green_dress.jpg'\n",
    "pred_type, pred_color, type_conf, color_conf = predict_image(\n",
    "    loaded_model, \n",
    "    image_path, \n",
    "    type_encoder, \n",
    "    color_encoder\n",
    ")\n",
    "\n",
    "print(f\"Predicted Type: {pred_type} (Confidence: {type_conf:.2f})\")\n",
    "print(f\"Predicted Color: {pred_color} (Confidence: {color_conf:.2f})\")"
   ]
  },
  {
   "cell_type": "code",
   "execution_count": 153,
   "id": "eca87ad3-1849-42cb-af4d-a762e1c3f6a3",
   "metadata": {},
   "outputs": [
    {
     "name": "stdout",
     "output_type": "stream",
     "text": [
      "\u001b[1m1/1\u001b[0m \u001b[32m━━━━━━━━━━━━━━━━━━━━\u001b[0m\u001b[37m\u001b[0m \u001b[1m0s\u001b[0m 14ms/step\n",
      "Predicted Type: DRESS (Confidence: 1.00)\n",
      "Predicted Color: RED (Confidence: 1.00)\n"
     ]
    }
   ],
   "source": [
    "image_path = 'red_dress.jpg'\n",
    "pred_type, pred_color, type_conf, color_conf = predict_image(\n",
    "    loaded_model, \n",
    "    image_path, \n",
    "    type_encoder, \n",
    "    color_encoder\n",
    ")\n",
    "\n",
    "print(f\"Predicted Type: {pred_type} (Confidence: {type_conf:.2f})\")\n",
    "print(f\"Predicted Color: {pred_color} (Confidence: {color_conf:.2f})\")"
   ]
  },
  {
   "cell_type": "code",
   "execution_count": 159,
   "id": "59c35c10-a81c-46db-b67d-f96980d14de8",
   "metadata": {},
   "outputs": [
    {
     "name": "stdout",
     "output_type": "stream",
     "text": [
      "\u001b[1m1/1\u001b[0m \u001b[32m━━━━━━━━━━━━━━━━━━━━\u001b[0m\u001b[37m\u001b[0m \u001b[1m0s\u001b[0m 12ms/step\n",
      "Predicted Type: BOMBER (Confidence: 0.62)\n",
      "Predicted Color: CHARCOAL (Confidence: 1.00)\n"
     ]
    }
   ],
   "source": [
    "image_path = 'grey_sweater.jpg'\n",
    "pred_type, pred_color, type_conf, color_conf = predict_image(\n",
    "    loaded_model, \n",
    "    image_path, \n",
    "    type_encoder, \n",
    "    color_encoder\n",
    ")\n",
    "\n",
    "print(f\"Predicted Type: {pred_type} (Confidence: {type_conf:.2f})\")\n",
    "print(f\"Predicted Color: {pred_color} (Confidence: {color_conf:.2f})\")"
   ]
  },
  {
   "cell_type": "code",
   "execution_count": 161,
   "id": "f5fe4c55-ac08-4a45-8a5f-bc85a5c7cd30",
   "metadata": {},
   "outputs": [
    {
     "name": "stdout",
     "output_type": "stream",
     "text": [
      "\u001b[1m1/1\u001b[0m \u001b[32m━━━━━━━━━━━━━━━━━━━━\u001b[0m\u001b[37m\u001b[0m \u001b[1m0s\u001b[0m 12ms/step\n",
      "Predicted Type: DRESS (Confidence: 1.00)\n",
      "Predicted Color: RED (Confidence: 1.00)\n"
     ]
    }
   ],
   "source": [
    "image_path = 'red_dress_2.jpg'\n",
    "pred_type, pred_color, type_conf, color_conf = predict_image(\n",
    "    loaded_model, \n",
    "    image_path, \n",
    "    type_encoder, \n",
    "    color_encoder\n",
    ")\n",
    "\n",
    "print(f\"Predicted Type: {pred_type} (Confidence: {type_conf:.2f})\")\n",
    "print(f\"Predicted Color: {pred_color} (Confidence: {color_conf:.2f})\")"
   ]
  },
  {
   "cell_type": "code",
   "execution_count": null,
   "id": "7e67b73a-f8cb-41e5-b183-31ecffbaf8a5",
   "metadata": {},
   "outputs": [],
   "source": []
  }
 ],
 "metadata": {
  "kernelspec": {
   "display_name": "Python 3 (ipykernel)",
   "language": "python",
   "name": "python3"
  },
  "language_info": {
   "codemirror_mode": {
    "name": "ipython",
    "version": 3
   },
   "file_extension": ".py",
   "mimetype": "text/x-python",
   "name": "python",
   "nbconvert_exporter": "python",
   "pygments_lexer": "ipython3",
   "version": "3.12.2"
  }
 },
 "nbformat": 4,
 "nbformat_minor": 5
}
